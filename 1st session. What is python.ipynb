{
 "cells": [
  {
   "cell_type": "markdown",
   "id": "f1f1cf31-112f-4e32-872c-331c185d4c1b",
   "metadata": {},
   "source": [
    "# Complementary Macroeconomics"
   ]
  },
  {
   "cell_type": "markdown",
   "id": "1c495a90-352d-430b-82bb-da9995a6e292",
   "metadata": {},
   "source": [
    "# First Session "
   ]
  },
  {
   "cell_type": "markdown",
   "id": "4febf065-cfc2-4a08-9380-e527a85c710e",
   "metadata": {},
   "source": [
    "## What is Python?"
   ]
  },
  {
   "cell_type": "markdown",
   "id": "8bc4f81d-fbd2-4704-b914-99c13f03671e",
   "metadata": {},
   "source": [
    "### A programming language is a structured way to communicate with a computer, enabling users to write instructions that the system can understand and execute."
   ]
  },
  {
   "cell_type": "markdown",
   "id": "3086b73a-1f9c-4baf-8270-6abf12356ca7",
   "metadata": {},
   "source": [
    "### What does Python understand?"
   ]
  },
  {
   "cell_type": "code",
   "execution_count": 30,
   "id": "52e3cec3-7706-4443-808a-ff5c96ca0a63",
   "metadata": {},
   "outputs": [
    {
     "data": {
      "text/plain": [
       "12"
      ]
     },
     "execution_count": 30,
     "metadata": {},
     "output_type": "execute_result"
    }
   ],
   "source": [
    "12"
   ]
  },
  {
   "cell_type": "markdown",
   "id": "1f0c434e-0c6b-42fc-9ab4-91076ecfe840",
   "metadata": {},
   "source": [
    "#### Python understood 12"
   ]
  },
  {
   "cell_type": "code",
   "execution_count": 32,
   "id": "ba9b267b-284f-48f9-9738-7f186d253f90",
   "metadata": {},
   "outputs": [
    {
     "data": {
      "text/plain": [
       "12.9"
      ]
     },
     "execution_count": 32,
     "metadata": {},
     "output_type": "execute_result"
    }
   ],
   "source": [
    "12.9"
   ]
  },
  {
   "cell_type": "markdown",
   "id": "2420e7be-373e-4d9c-9bfb-b32297a237ea",
   "metadata": {},
   "source": [
    "#### It also understood 12.9"
   ]
  },
  {
   "cell_type": "code",
   "execution_count": 34,
   "id": "0651105d-4044-4dac-bccd-a29e2ae6fc9e",
   "metadata": {},
   "outputs": [
    {
     "data": {
      "text/plain": [
       "3.14"
      ]
     },
     "execution_count": 34,
     "metadata": {},
     "output_type": "execute_result"
    }
   ],
   "source": [
    "3.14"
   ]
  },
  {
   "cell_type": "markdown",
   "id": "ccdf8f39-9d3e-4b70-b71f-3c7499e8933a",
   "metadata": {},
   "source": [
    "#### Approximation of pi was understood too!"
   ]
  },
  {
   "cell_type": "code",
   "execution_count": 36,
   "id": "f2ee4844-58ba-4b51-8263-417f21571d20",
   "metadata": {},
   "outputs": [
    {
     "ename": "NameError",
     "evalue": "name 'Hi' is not defined",
     "output_type": "error",
     "traceback": [
      "\u001b[1;31m---------------------------------------------------------------------------\u001b[0m",
      "\u001b[1;31mNameError\u001b[0m                                 Traceback (most recent call last)",
      "Cell \u001b[1;32mIn[36], line 1\u001b[0m\n\u001b[1;32m----> 1\u001b[0m \u001b[43mHi\u001b[49m\n",
      "\u001b[1;31mNameError\u001b[0m: name 'Hi' is not defined"
     ]
    }
   ],
   "source": [
    "Hi"
   ]
  },
  {
   "cell_type": "markdown",
   "id": "ca0b4b0d-6338-472f-9ec6-2a8d2dd4835e",
   "metadata": {},
   "source": [
    "#### Python didn't understand Hi"
   ]
  },
  {
   "cell_type": "code",
   "execution_count": 38,
   "id": "24c6a8fd-acec-4386-8c9a-eb732b29a068",
   "metadata": {},
   "outputs": [
    {
     "ename": "NameError",
     "evalue": "name 'Hallo' is not defined",
     "output_type": "error",
     "traceback": [
      "\u001b[1;31m---------------------------------------------------------------------------\u001b[0m",
      "\u001b[1;31mNameError\u001b[0m                                 Traceback (most recent call last)",
      "Cell \u001b[1;32mIn[38], line 1\u001b[0m\n\u001b[1;32m----> 1\u001b[0m \u001b[43mHallo\u001b[49m\n",
      "\u001b[1;31mNameError\u001b[0m: name 'Hallo' is not defined"
     ]
    }
   ],
   "source": [
    "Hallo"
   ]
  },
  {
   "cell_type": "markdown",
   "id": "2b22c448-c81b-48ab-af75-5be3e87002ff",
   "metadata": {},
   "source": [
    "#### Python didn't understand hi in German either"
   ]
  },
  {
   "cell_type": "code",
   "execution_count": 40,
   "id": "b7f0ffb7-6e0c-4935-bfa1-244aee9085f9",
   "metadata": {},
   "outputs": [
    {
     "ename": "NameError",
     "evalue": "name 'درود' is not defined",
     "output_type": "error",
     "traceback": [
      "\u001b[1;31m---------------------------------------------------------------------------\u001b[0m",
      "\u001b[1;31mNameError\u001b[0m                                 Traceback (most recent call last)",
      "Cell \u001b[1;32mIn[40], line 1\u001b[0m\n\u001b[1;32m----> 1\u001b[0m \u001b[43mدرود\u001b[49m\n",
      "\u001b[1;31mNameError\u001b[0m: name 'درود' is not defined"
     ]
    }
   ],
   "source": [
    "درود"
   ]
  },
  {
   "cell_type": "markdown",
   "id": "8bee480a-b747-4c24-a9f8-a8292e659e52",
   "metadata": {},
   "source": [
    "#### Python didn't understand 'Hi' in Persian either, so the issue isn't about the language—it must be something else."
   ]
  },
  {
   "cell_type": "code",
   "execution_count": 42,
   "id": "e375db84-3fd4-47f1-b283-ddab614ba390",
   "metadata": {
    "scrolled": true
   },
   "outputs": [
    {
     "ename": "SyntaxError",
     "evalue": "invalid syntax (796671574.py, line 1)",
     "output_type": "error",
     "traceback": [
      "\u001b[1;36m  Cell \u001b[1;32mIn[42], line 1\u001b[1;36m\u001b[0m\n\u001b[1;33m    *\u001b[0m\n\u001b[1;37m     ^\u001b[0m\n\u001b[1;31mSyntaxError\u001b[0m\u001b[1;31m:\u001b[0m invalid syntax\n"
     ]
    }
   ],
   "source": [
    "*"
   ]
  },
  {
   "cell_type": "code",
   "execution_count": 50,
   "id": "7978ef6e-8b65-4072-b62f-1ae849eb6bf0",
   "metadata": {},
   "outputs": [
    {
     "ename": "SyntaxError",
     "evalue": "invalid syntax (15193383.py, line 1)",
     "output_type": "error",
     "traceback": [
      "\u001b[1;36m  Cell \u001b[1;32mIn[50], line 1\u001b[1;36m\u001b[0m\n\u001b[1;33m    +\u001b[0m\n\u001b[1;37m     ^\u001b[0m\n\u001b[1;31mSyntaxError\u001b[0m\u001b[1;31m:\u001b[0m invalid syntax\n"
     ]
    }
   ],
   "source": [
    "+"
   ]
  },
  {
   "cell_type": "code",
   "execution_count": 52,
   "id": "f2e47f80-b5a1-4f57-bb24-b9e64c92961f",
   "metadata": {},
   "outputs": [
    {
     "ename": "SyntaxError",
     "evalue": "invalid syntax (3270386722.py, line 1)",
     "output_type": "error",
     "traceback": [
      "\u001b[1;36m  Cell \u001b[1;32mIn[52], line 1\u001b[1;36m\u001b[0m\n\u001b[1;33m    @\u001b[0m\n\u001b[1;37m     ^\u001b[0m\n\u001b[1;31mSyntaxError\u001b[0m\u001b[1;31m:\u001b[0m invalid syntax\n"
     ]
    }
   ],
   "source": [
    "@"
   ]
  },
  {
   "cell_type": "code",
   "execution_count": 56,
   "id": "3ad71caf-fe67-4079-a228-1d3815cda22a",
   "metadata": {
    "scrolled": true
   },
   "outputs": [
    {
     "ename": "SyntaxError",
     "evalue": "unterminated string literal (detected at line 1) (1845220801.py, line 1)",
     "output_type": "error",
     "traceback": [
      "\u001b[1;36m  Cell \u001b[1;32mIn[56], line 1\u001b[1;36m\u001b[0m\n\u001b[1;33m    \"\u001b[0m\n\u001b[1;37m    ^\u001b[0m\n\u001b[1;31mSyntaxError\u001b[0m\u001b[1;31m:\u001b[0m unterminated string literal (detected at line 1)\n"
     ]
    }
   ],
   "source": [
    "\""
   ]
  },
  {
   "cell_type": "markdown",
   "id": "b34e8a57-a3e7-4788-952a-b5f3b8d226fa",
   "metadata": {},
   "source": [
    "### Looks like Python didn’t understand these four symbols either—something strange is going on! But let's add another \" to see what happens."
   ]
  },
  {
   "cell_type": "code",
   "execution_count": 142,
   "id": "4d22f862-6c25-4798-83e1-c2626ac97c62",
   "metadata": {},
   "outputs": [
    {
     "data": {
      "text/plain": [
       "''"
      ]
     },
     "execution_count": 142,
     "metadata": {},
     "output_type": "execute_result"
    }
   ],
   "source": [
    "\"\""
   ]
  },
  {
   "cell_type": "code",
   "execution_count": 60,
   "id": "3e59949d-a987-46e2-ad84-1f083df04c3d",
   "metadata": {},
   "outputs": [
    {
     "data": {
      "text/plain": [
       "''"
      ]
     },
     "execution_count": 60,
     "metadata": {},
     "output_type": "execute_result"
    }
   ],
   "source": [
    "''"
   ]
  },
  {
   "cell_type": "code",
   "execution_count": 62,
   "id": "5c213d3f-2d46-426d-af34-b4dcf2dac890",
   "metadata": {
    "scrolled": true
   },
   "outputs": [
    {
     "data": {
      "text/plain": [
       "' '"
      ]
     },
     "execution_count": 62,
     "metadata": {},
     "output_type": "execute_result"
    }
   ],
   "source": [
    "\"\"\" \"\"\""
   ]
  },
  {
   "cell_type": "markdown",
   "id": "412f551a-77de-4a71-bbef-f2b7f85e55e3",
   "metadata": {},
   "source": [
    "## Seems Working!"
   ]
  },
  {
   "cell_type": "code",
   "execution_count": 64,
   "id": "809f6a13-4d14-4fdc-b554-df9ca5a91c55",
   "metadata": {},
   "outputs": [
    {
     "data": {
      "text/plain": [
       "'Hi'"
      ]
     },
     "execution_count": 64,
     "metadata": {},
     "output_type": "execute_result"
    }
   ],
   "source": [
    "\"Hi\""
   ]
  },
  {
   "cell_type": "code",
   "execution_count": 66,
   "id": "ddbb832f-d19d-466c-a6bc-3b5e89a95db7",
   "metadata": {},
   "outputs": [
    {
     "data": {
      "text/plain": [
       "'Hallo'"
      ]
     },
     "execution_count": 66,
     "metadata": {},
     "output_type": "execute_result"
    }
   ],
   "source": [
    "\"Hallo\""
   ]
  },
  {
   "cell_type": "code",
   "execution_count": 68,
   "id": "7eb6c996-fb25-43d0-9db5-f92121515281",
   "metadata": {},
   "outputs": [
    {
     "data": {
      "text/plain": [
       "'سلام'"
      ]
     },
     "execution_count": 68,
     "metadata": {},
     "output_type": "execute_result"
    }
   ],
   "source": [
    "\"سلام\""
   ]
  },
  {
   "cell_type": "code",
   "execution_count": 70,
   "id": "d2705515-9cb7-4850-a418-11c7eca92af6",
   "metadata": {},
   "outputs": [
    {
     "data": {
      "text/plain": [
       "'$'"
      ]
     },
     "execution_count": 70,
     "metadata": {},
     "output_type": "execute_result"
    }
   ],
   "source": [
    "\"$\""
   ]
  },
  {
   "cell_type": "code",
   "execution_count": 72,
   "id": "9ddadc00-59ce-452d-ac55-af7995c741d1",
   "metadata": {},
   "outputs": [
    {
     "data": {
      "text/plain": [
       "'%'"
      ]
     },
     "execution_count": 72,
     "metadata": {},
     "output_type": "execute_result"
    }
   ],
   "source": [
    "\"%\""
   ]
  },
  {
   "cell_type": "code",
   "execution_count": 74,
   "id": "09bf6f22-0d6c-4c93-a2ea-1e10cefc5b41",
   "metadata": {},
   "outputs": [
    {
     "data": {
      "text/plain": [
       "'+'"
      ]
     },
     "execution_count": 74,
     "metadata": {},
     "output_type": "execute_result"
    }
   ],
   "source": [
    "\"+\""
   ]
  },
  {
   "cell_type": "code",
   "execution_count": 148,
   "id": "1960287a-921d-4d66-9838-6fb00bd2de26",
   "metadata": {},
   "outputs": [
    {
     "data": {
      "text/plain": [
       "'Ali is Typing'"
      ]
     },
     "execution_count": 148,
     "metadata": {},
     "output_type": "execute_result"
    }
   ],
   "source": [
    "\"Ali is Typing\""
   ]
  },
  {
   "cell_type": "markdown",
   "id": "37268271-15b4-4d3a-8c8c-2ebe92fba6bd",
   "metadata": {},
   "source": [
    "## So, Python understands quotation marks"
   ]
  },
  {
   "cell_type": "markdown",
   "id": "06420f68-2723-447a-8059-084154b1d452",
   "metadata": {},
   "source": [
    "# Question: What does Python recognize these as?"
   ]
  },
  {
   "cell_type": "markdown",
   "id": "54529f55-849c-4a97-88da-94b1df7a6410",
   "metadata": {},
   "source": [
    "# Answer: We can use a function to figure this out."
   ]
  },
  {
   "cell_type": "markdown",
   "id": "048e4bae-e75b-4a4e-99d0-a28bd7bb0a41",
   "metadata": {},
   "source": [
    "## An example function in mathematics\n",
    "\n",
    "### $f(x) = x^2$\n",
    "\n",
    "### $f(1) = 1$\n",
    "\n",
    "### $f(2) = 4$"
   ]
  },
  {
   "cell_type": "markdown",
   "id": "339ad9d5-6434-48af-98b5-a67951897e9f",
   "metadata": {},
   "source": [
    "## We can use the type() function to understand what Python is recognizing"
   ]
  },
  {
   "cell_type": "code",
   "execution_count": 86,
   "id": "30edf091-7c18-47dd-80ff-1771db2d698c",
   "metadata": {},
   "outputs": [
    {
     "data": {
      "text/plain": [
       "int"
      ]
     },
     "execution_count": 86,
     "metadata": {},
     "output_type": "execute_result"
    }
   ],
   "source": [
    "type(21)"
   ]
  },
  {
   "cell_type": "markdown",
   "id": "16d6c1ee-2b31-4a15-a4aa-3fccc01de5f1",
   "metadata": {},
   "source": [
    "## 21 is recognized as an integer in Python"
   ]
  },
  {
   "cell_type": "code",
   "execution_count": 88,
   "id": "bc26aba5-2b6b-4ad0-8642-da5647ffb83b",
   "metadata": {},
   "outputs": [
    {
     "data": {
      "text/plain": [
       "float"
      ]
     },
     "execution_count": 88,
     "metadata": {},
     "output_type": "execute_result"
    }
   ],
   "source": [
    "type(12.9)"
   ]
  },
  {
   "cell_type": "markdown",
   "id": "142489d4-43eb-40d8-9aeb-93e8f0ae8576",
   "metadata": {},
   "source": [
    "## 12.9 is recognized as a floating point number"
   ]
  },
  {
   "cell_type": "code",
   "execution_count": 90,
   "id": "5c87f432-7193-4b00-80f4-eab7e3972977",
   "metadata": {},
   "outputs": [
    {
     "data": {
      "text/plain": [
       "float"
      ]
     },
     "execution_count": 90,
     "metadata": {},
     "output_type": "execute_result"
    }
   ],
   "source": [
    "type(3.14)"
   ]
  },
  {
   "cell_type": "markdown",
   "id": "63511b98-a735-4400-8f8d-9aab964de24a",
   "metadata": {},
   "source": [
    "## 3.14, an approximation of pi, is also recognized as a float"
   ]
  },
  {
   "cell_type": "code",
   "execution_count": 92,
   "id": "18e10c18-4b73-4386-829d-bebd805372d4",
   "metadata": {},
   "outputs": [
    {
     "data": {
      "text/plain": [
       "str"
      ]
     },
     "execution_count": 92,
     "metadata": {},
     "output_type": "execute_result"
    }
   ],
   "source": [
    "type(\"Hi\")"
   ]
  },
  {
   "cell_type": "markdown",
   "id": "a75ea8aa-49c5-44d8-82f8-56678cb636e9",
   "metadata": {},
   "source": [
    "## \"Hi\" is recognized as a string"
   ]
  },
  {
   "cell_type": "code",
   "execution_count": 166,
   "id": "736dcc92-04a5-4ef6-9371-1f5747a92565",
   "metadata": {
    "scrolled": true
   },
   "outputs": [
    {
     "ename": "NameError",
     "evalue": "name 'Hi' is not defined",
     "output_type": "error",
     "traceback": [
      "\u001b[1;31m---------------------------------------------------------------------------\u001b[0m",
      "\u001b[1;31mNameError\u001b[0m                                 Traceback (most recent call last)",
      "Cell \u001b[1;32mIn[166], line 1\u001b[0m\n\u001b[1;32m----> 1\u001b[0m \u001b[38;5;28mtype\u001b[39m(\u001b[43mHi\u001b[49m)\n",
      "\u001b[1;31mNameError\u001b[0m: name 'Hi' is not defined"
     ]
    }
   ],
   "source": [
    "type(Hi)"
   ]
  },
  {
   "cell_type": "markdown",
   "id": "6b1e16b7-4ef1-4170-bd86-21168e6642d8",
   "metadata": {},
   "source": [
    "## Not Hi!"
   ]
  },
  {
   "cell_type": "code",
   "execution_count": 96,
   "id": "0259c8bd-c0b5-437d-9a29-423e491fdd64",
   "metadata": {},
   "outputs": [
    {
     "data": {
      "text/plain": [
       "str"
      ]
     },
     "execution_count": 96,
     "metadata": {},
     "output_type": "execute_result"
    }
   ],
   "source": [
    "type('')"
   ]
  },
  {
   "cell_type": "code",
   "execution_count": 98,
   "id": "c490ee52-0a92-4dc6-a2ad-447b7d1f7f31",
   "metadata": {},
   "outputs": [
    {
     "data": {
      "text/plain": [
       "4"
      ]
     },
     "execution_count": 98,
     "metadata": {},
     "output_type": "execute_result"
    }
   ],
   "source": [
    "2 + 2"
   ]
  },
  {
   "cell_type": "code",
   "execution_count": 100,
   "id": "6974511b-0db4-469d-9141-993fd1e74d69",
   "metadata": {},
   "outputs": [
    {
     "data": {
      "text/plain": [
       "int"
      ]
     },
     "execution_count": 100,
     "metadata": {},
     "output_type": "execute_result"
    }
   ],
   "source": [
    "type(2+2)"
   ]
  },
  {
   "cell_type": "code",
   "execution_count": 102,
   "id": "4fd7977e-242d-44fd-a3b9-bd0ac2380d82",
   "metadata": {},
   "outputs": [
    {
     "ename": "SyntaxError",
     "evalue": "invalid syntax (741568990.py, line 1)",
     "output_type": "error",
     "traceback": [
      "\u001b[1;36m  Cell \u001b[1;32mIn[102], line 1\u001b[1;36m\u001b[0m\n\u001b[1;33m    type(+)\u001b[0m\n\u001b[1;37m          ^\u001b[0m\n\u001b[1;31mSyntaxError\u001b[0m\u001b[1;31m:\u001b[0m invalid syntax\n"
     ]
    }
   ],
   "source": [
    "type(+)"
   ]
  },
  {
   "cell_type": "code",
   "execution_count": 104,
   "id": "6faecb2a-367d-49e2-a5aa-ca036d4dd7d8",
   "metadata": {},
   "outputs": [
    {
     "data": {
      "text/plain": [
       "str"
      ]
     },
     "execution_count": 104,
     "metadata": {},
     "output_type": "execute_result"
    }
   ],
   "source": [
    "type('+')"
   ]
  },
  {
   "cell_type": "code",
   "execution_count": 169,
   "id": "38a6d0a8-09a7-46de-80fe-8f8318d76c18",
   "metadata": {},
   "outputs": [
    {
     "data": {
      "text/plain": [
       "2"
      ]
     },
     "execution_count": 169,
     "metadata": {},
     "output_type": "execute_result"
    }
   ],
   "source": [
    "# Python will not run this line\n",
    "2"
   ]
  },
  {
   "cell_type": "markdown",
   "id": "ba32ddb8-5dec-42d4-ba5c-7e344556f222",
   "metadata": {},
   "source": [
    "### Read the next sentence first, because this block was made because of it!"
   ]
  },
  {
   "cell_type": "markdown",
   "id": "04953a85-2e6f-407c-a9b4-6c650df09a42",
   "metadata": {},
   "source": [
    "# Pressing 'B' will create a new block after this block, and pressing 'A' will create a new block before it."
   ]
  },
  {
   "cell_type": "markdown",
   "id": "fa0dbb28-f2a5-4730-817f-0e4994eecb99",
   "metadata": {},
   "source": [
    "Today's session is about to end"
   ]
  },
  {
   "cell_type": "code",
   "execution_count": 112,
   "id": "8bf9c8bf-6308-4489-b7cf-59ca840cc9bf",
   "metadata": {},
   "outputs": [
    {
     "data": {
      "text/plain": [
       "4"
      ]
     },
     "execution_count": 112,
     "metadata": {},
     "output_type": "execute_result"
    }
   ],
   "source": [
    "2 * 2"
   ]
  },
  {
   "cell_type": "markdown",
   "id": "039fc3fc-64b3-45fd-9ce6-a773a527bead",
   "metadata": {},
   "source": [
    "# Shift + Enter will run the code"
   ]
  },
  {
   "cell_type": "code",
   "execution_count": 115,
   "id": "451fa8cd-d1e5-42c8-a8b3-b3bf35917c77",
   "metadata": {},
   "outputs": [
    {
     "data": {
      "text/plain": [
       "0"
      ]
     },
     "execution_count": 115,
     "metadata": {},
     "output_type": "execute_result"
    }
   ],
   "source": [
    "2 - 2"
   ]
  },
  {
   "cell_type": "markdown",
   "id": "412742b5-77d1-4bb0-81ea-139deab7e5fd",
   "metadata": {},
   "source": [
    "# Exercises"
   ]
  },
  {
   "cell_type": "markdown",
   "id": "bfbaebeb-4fc7-46c2-a09c-4ca2c8add9e5",
   "metadata": {},
   "source": [
    "### bin() function converts integers to binary representation of an integer"
   ]
  },
  {
   "cell_type": "markdown",
   "id": "a1e59def-ab9b-439b-87c1-5b1485570699",
   "metadata": {},
   "source": [
    "## 1. use bin() to convert the following numbers to binary representation\n",
    "\n",
    "- 3\n",
    "\n",
    "- 4"
   ]
  },
  {
   "cell_type": "markdown",
   "id": "8ee71367-555c-4054-be44-2a211972dd1f",
   "metadata": {},
   "source": [
    "## 2. Use the type() function to check bin alone."
   ]
  },
  {
   "cell_type": "code",
   "execution_count": null,
   "id": "05a9f48f-fc8f-4cec-b0e4-e5a3ca43750e",
   "metadata": {},
   "outputs": [],
   "source": []
  },
  {
   "cell_type": "markdown",
   "id": "b7bd08a7-c49d-4512-860a-114cbf397c20",
   "metadata": {},
   "source": [
    "## 3. Use the type() function to check bin with either 3 or 4"
   ]
  },
  {
   "cell_type": "code",
   "execution_count": null,
   "id": "2e4bb4cb-590e-42bc-87e9-d923c686f66d",
   "metadata": {},
   "outputs": [],
   "source": []
  },
  {
   "cell_type": "markdown",
   "id": "e5cbeec6-82b4-44a0-ab8d-59e390d89970",
   "metadata": {},
   "source": [
    "## 4. Use bin() to add two numbers using + and multiply them using *. One of them will produce an error."
   ]
  },
  {
   "cell_type": "code",
   "execution_count": null,
   "id": "70e29d53-5c2b-4125-b60d-da1256b1f2af",
   "metadata": {},
   "outputs": [],
   "source": []
  },
  {
   "cell_type": "markdown",
   "id": "fad88016-9ee9-4f0a-80e5-1b5efc798e25",
   "metadata": {},
   "source": [
    "## 5. Add two strings together. Can you also multiply them?"
   ]
  },
  {
   "cell_type": "code",
   "execution_count": null,
   "id": "04f11452-ad3e-4676-ba81-0fa75622ac3b",
   "metadata": {},
   "outputs": [],
   "source": []
  },
  {
   "cell_type": "markdown",
   "id": "3bab026b-82c6-4783-9562-75d202d287d2",
   "metadata": {},
   "source": [
    "### Next session, I will ask these questions at the beginning of the class:\n",
    "\n",
    "What was similar between the error in question 5 and question 4?\n",
    "\n",
    "Can we divide them?\n",
    "\n",
    "How does + work between strings?"
   ]
  },
  {
   "cell_type": "code",
   "execution_count": null,
   "id": "97d0ceab-b966-469c-9e02-ae9a089a8450",
   "metadata": {},
   "outputs": [],
   "source": []
  },
  {
   "cell_type": "markdown",
   "id": "8c3bc3af-7a7a-400c-be32-56c6de9d19f4",
   "metadata": {},
   "source": [
    "## 6. This is the division operator -> /\n",
    "\n",
    "## If we divide two numbers, what will python recognize them as? Try it with both floats and integers."
   ]
  },
  {
   "cell_type": "code",
   "execution_count": null,
   "id": "14316891-4933-46d8-ac77-2cdde09aeb16",
   "metadata": {},
   "outputs": [],
   "source": []
  },
  {
   "cell_type": "code",
   "execution_count": null,
   "id": "998f9852-e1c5-4cf6-acdc-3fe94f85d4f0",
   "metadata": {},
   "outputs": [],
   "source": []
  },
  {
   "cell_type": "markdown",
   "id": "2108e1e9-e112-43b7-97aa-610f37f1399a",
   "metadata": {},
   "source": [
    "## 7. Fix the following Errors"
   ]
  },
  {
   "cell_type": "code",
   "execution_count": 225,
   "id": "22b03721-0dd2-4006-8538-4c7717893862",
   "metadata": {},
   "outputs": [
    {
     "ename": "TypeError",
     "evalue": "can only concatenate str (not \"int\") to str",
     "output_type": "error",
     "traceback": [
      "\u001b[1;31m---------------------------------------------------------------------------\u001b[0m",
      "\u001b[1;31mTypeError\u001b[0m                                 Traceback (most recent call last)",
      "Cell \u001b[1;32mIn[225], line 1\u001b[0m\n\u001b[1;32m----> 1\u001b[0m \u001b[38;5;124;43m\"\u001b[39;49m\u001b[38;5;124;43mMessi\u001b[39;49m\u001b[38;5;124;43m\"\u001b[39;49m\u001b[43m \u001b[49m\u001b[38;5;241;43m+\u001b[39;49m\u001b[43m \u001b[49m\u001b[38;5;241;43m10\u001b[39;49m\n",
      "\u001b[1;31mTypeError\u001b[0m: can only concatenate str (not \"int\") to str"
     ]
    }
   ],
   "source": [
    "\"Messi\" + 10"
   ]
  },
  {
   "cell_type": "code",
   "execution_count": 227,
   "id": "d8b043fc-bd72-4b86-92f1-51d1fcdf3949",
   "metadata": {},
   "outputs": [
    {
     "ename": "SyntaxError",
     "evalue": "invalid syntax (2259634035.py, line 1)",
     "output_type": "error",
     "traceback": [
      "\u001b[1;36m  Cell \u001b[1;32mIn[227], line 1\u001b[1;36m\u001b[0m\n\u001b[1;33m    \"His name is\" David\u001b[0m\n\u001b[1;37m                  ^\u001b[0m\n\u001b[1;31mSyntaxError\u001b[0m\u001b[1;31m:\u001b[0m invalid syntax\n"
     ]
    }
   ],
   "source": [
    "\"His name is\" David"
   ]
  },
  {
   "cell_type": "code",
   "execution_count": 231,
   "id": "d2d4549e-d852-42f7-a792-0da46ba291af",
   "metadata": {},
   "outputs": [
    {
     "ename": "TypeError",
     "evalue": "unsupported operand type(s) for +: 'int' and 'str'",
     "output_type": "error",
     "traceback": [
      "\u001b[1;31m---------------------------------------------------------------------------\u001b[0m",
      "\u001b[1;31mTypeError\u001b[0m                                 Traceback (most recent call last)",
      "Cell \u001b[1;32mIn[231], line 1\u001b[0m\n\u001b[1;32m----> 1\u001b[0m \u001b[38;5;241;43m10\u001b[39;49m\u001b[43m \u001b[49m\u001b[38;5;241;43m+\u001b[39;49m\u001b[43m \u001b[49m\u001b[38;5;124;43m\"\u001b[39;49m\u001b[38;5;124;43m7\u001b[39;49m\u001b[38;5;124;43m\"\u001b[39;49m \u001b[38;5;66;03m#Use two method for fixing this one\u001b[39;00m\n",
      "\u001b[1;31mTypeError\u001b[0m: unsupported operand type(s) for +: 'int' and 'str'"
     ]
    }
   ],
   "source": [
    "10 + \"7\" #Use two method for fixing this one"
   ]
  }
 ],
 "metadata": {
  "kernelspec": {
   "display_name": "Python 3 (ipykernel)",
   "language": "python",
   "name": "python3"
  },
  "language_info": {
   "codemirror_mode": {
    "name": "ipython",
    "version": 3
   },
   "file_extension": ".py",
   "mimetype": "text/x-python",
   "name": "python",
   "nbconvert_exporter": "python",
   "pygments_lexer": "ipython3",
   "version": "3.12.7"
  }
 },
 "nbformat": 4,
 "nbformat_minor": 5
}
