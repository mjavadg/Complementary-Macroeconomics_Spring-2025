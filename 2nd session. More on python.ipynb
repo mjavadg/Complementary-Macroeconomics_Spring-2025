{
 "cells": [
  {
   "cell_type": "markdown",
   "id": "2ca155e3",
   "metadata": {},
   "source": [
    "# Complementary Macroeconomics"
   ]
  },
  {
   "cell_type": "markdown",
   "id": "98cf6e82",
   "metadata": {},
   "source": [
    "# Second Session"
   ]
  },
  {
   "cell_type": "markdown",
   "id": "656e3449",
   "metadata": {},
   "source": [
    "### During the last session, we learned that Python can identify elements or commands that are explicitly defined for it. However, it will generate an error when encountering something it does not recognize."
   ]
  },
  {
   "cell_type": "code",
   "execution_count": 1,
   "id": "3fb4a383",
   "metadata": {},
   "outputs": [
    {
     "ename": "NameError",
     "evalue": "name 'pi' is not defined",
     "output_type": "error",
     "traceback": [
      "\u001b[1;31m---------------------------------------------------------------------------\u001b[0m",
      "\u001b[1;31mNameError\u001b[0m                                 Traceback (most recent call last)",
      "Cell \u001b[1;32mIn[1], line 1\u001b[0m\n\u001b[1;32m----> 1\u001b[0m \u001b[43mpi\u001b[49m\n",
      "\u001b[1;31mNameError\u001b[0m: name 'pi' is not defined"
     ]
    }
   ],
   "source": [
    "pi"
   ]
  },
  {
   "cell_type": "markdown",
   "id": "b2a74279",
   "metadata": {},
   "source": [
    "### The value of pi, approximately 3.14, is not predefined in Python."
   ]
  },
  {
   "cell_type": "markdown",
   "id": "18fb17d8",
   "metadata": {},
   "source": [
    "## We can define it "
   ]
  },
  {
   "cell_type": "code",
   "execution_count": 2,
   "id": "6106aa65",
   "metadata": {},
   "outputs": [],
   "source": [
    "pi = 3.14"
   ]
  },
  {
   "cell_type": "code",
   "execution_count": 3,
   "id": "6e1e668c",
   "metadata": {},
   "outputs": [
    {
     "data": {
      "text/plain": [
       "3.14"
      ]
     },
     "execution_count": 3,
     "metadata": {},
     "output_type": "execute_result"
    }
   ],
   "source": [
    "pi"
   ]
  },
  {
   "cell_type": "markdown",
   "id": "6a84f6fe",
   "metadata": {},
   "source": [
    "### The value of e, approximately 2.718, is not predefined in Python either."
   ]
  },
  {
   "cell_type": "markdown",
   "id": "c3d82ec2",
   "metadata": {},
   "source": [
    "## We can define it as well"
   ]
  },
  {
   "cell_type": "code",
   "execution_count": 4,
   "id": "141d1b3a",
   "metadata": {},
   "outputs": [],
   "source": [
    "e = 2.718"
   ]
  },
  {
   "cell_type": "code",
   "execution_count": 5,
   "id": "24b2e420",
   "metadata": {},
   "outputs": [
    {
     "data": {
      "text/plain": [
       "2.718"
      ]
     },
     "execution_count": 5,
     "metadata": {},
     "output_type": "execute_result"
    }
   ],
   "source": [
    "e"
   ]
  },
  {
   "cell_type": "markdown",
   "id": "e813b7c1",
   "metadata": {},
   "source": [
    "## If we want to write a code that outputs both 𝑒 and 𝜋 simultaneously, we can do the following:"
   ]
  },
  {
   "cell_type": "code",
   "execution_count": 6,
   "id": "e8e197b3",
   "metadata": {},
   "outputs": [
    {
     "name": "stdout",
     "output_type": "stream",
     "text": [
      "2.718\n",
      "3.14\n"
     ]
    }
   ],
   "source": [
    "print(e)\n",
    "print(pi)"
   ]
  },
  {
   "cell_type": "code",
   "execution_count": 8,
   "id": "a41f8f25",
   "metadata": {},
   "outputs": [
    {
     "data": {
      "text/plain": [
       "3.14"
      ]
     },
     "execution_count": 8,
     "metadata": {},
     "output_type": "execute_result"
    }
   ],
   "source": [
    "e\n",
    "pi"
   ]
  },
  {
   "cell_type": "markdown",
   "id": "30fb5071",
   "metadata": {},
   "source": [
    "## In the above code, only the second line was stored in the Python's memory."
   ]
  },
  {
   "cell_type": "markdown",
   "id": "3db80e5f",
   "metadata": {},
   "source": [
    "## To define pi and e more precisely, we can use libraries"
   ]
  },
  {
   "cell_type": "markdown",
   "id": "2d611eba",
   "metadata": {},
   "source": [
    "### math library"
   ]
  },
  {
   "cell_type": "code",
   "execution_count": 9,
   "id": "e2c98960",
   "metadata": {},
   "outputs": [],
   "source": [
    "import math"
   ]
  },
  {
   "cell_type": "code",
   "execution_count": 10,
   "id": "a9c84c0b",
   "metadata": {},
   "outputs": [
    {
     "data": {
      "text/plain": [
       "2.718281828459045"
      ]
     },
     "execution_count": 10,
     "metadata": {},
     "output_type": "execute_result"
    }
   ],
   "source": [
    "math.e"
   ]
  },
  {
   "cell_type": "code",
   "execution_count": 11,
   "id": "abddadaf",
   "metadata": {},
   "outputs": [
    {
     "data": {
      "text/plain": [
       "3.141592653589793"
      ]
     },
     "execution_count": 11,
     "metadata": {},
     "output_type": "execute_result"
    }
   ],
   "source": [
    "math.pi"
   ]
  },
  {
   "cell_type": "markdown",
   "id": "8b9be07c",
   "metadata": {},
   "source": [
    "### numpy library"
   ]
  },
  {
   "cell_type": "code",
   "execution_count": 12,
   "id": "7f97e973",
   "metadata": {},
   "outputs": [],
   "source": [
    "import numpy"
   ]
  },
  {
   "cell_type": "code",
   "execution_count": 13,
   "id": "1d525fb7",
   "metadata": {},
   "outputs": [
    {
     "data": {
      "text/plain": [
       "2.718281828459045"
      ]
     },
     "execution_count": 13,
     "metadata": {},
     "output_type": "execute_result"
    }
   ],
   "source": [
    "numpy.e"
   ]
  },
  {
   "cell_type": "code",
   "execution_count": 14,
   "id": "423637fd",
   "metadata": {},
   "outputs": [
    {
     "data": {
      "text/plain": [
       "3.141592653589793"
      ]
     },
     "execution_count": 14,
     "metadata": {},
     "output_type": "execute_result"
    }
   ],
   "source": [
    "numpy.pi"
   ]
  },
  {
   "cell_type": "markdown",
   "id": "08593f82",
   "metadata": {},
   "source": [
    "## using an alias"
   ]
  },
  {
   "cell_type": "code",
   "execution_count": 15,
   "id": "8e2e5c03",
   "metadata": {},
   "outputs": [],
   "source": [
    "import numpy as np"
   ]
  },
  {
   "cell_type": "code",
   "execution_count": 16,
   "id": "e8b62687",
   "metadata": {},
   "outputs": [
    {
     "name": "stdout",
     "output_type": "stream",
     "text": [
      "3.141592653589793\n"
     ]
    }
   ],
   "source": [
    "print(np.pi)"
   ]
  },
  {
   "cell_type": "markdown",
   "id": "43122a85",
   "metadata": {},
   "source": [
    "## Other Mathematical operations"
   ]
  },
  {
   "cell_type": "code",
   "execution_count": 19,
   "id": "29f5fab3",
   "metadata": {},
   "outputs": [
    {
     "data": {
      "text/plain": [
       "8"
      ]
     },
     "execution_count": 19,
     "metadata": {},
     "output_type": "execute_result"
    }
   ],
   "source": [
    "2 ** 3"
   ]
  },
  {
   "cell_type": "markdown",
   "id": "0dad8d29",
   "metadata": {},
   "source": [
    "# Radius = 10 cm"
   ]
  },
  {
   "cell_type": "markdown",
   "id": "7a4f976e",
   "metadata": {},
   "source": [
    "## Perimeter"
   ]
  },
  {
   "cell_type": "code",
   "execution_count": null,
   "id": "ac1f6c14",
   "metadata": {},
   "outputs": [
    {
     "data": {
      "text/plain": [
       "62.83185307179586"
      ]
     },
     "metadata": {},
     "output_type": "display_data"
    }
   ],
   "source": [
    "2 * math.pi * 10 #perimeter"
   ]
  },
  {
   "cell_type": "code",
   "execution_count": null,
   "id": "b6535518",
   "metadata": {},
   "outputs": [
    {
     "data": {
      "text/plain": [
       "62.800000000000004"
      ]
     },
     "metadata": {},
     "output_type": "display_data"
    }
   ],
   "source": [
    "2 * 3.14 * 10"
   ]
  },
  {
   "cell_type": "code",
   "execution_count": null,
   "id": "1dadb7ab",
   "metadata": {},
   "outputs": [
    {
     "data": {
      "text/plain": [
       "3.1415926535"
      ]
     },
     "metadata": {},
     "output_type": "display_data"
    }
   ],
   "source": [
    "pi"
   ]
  },
  {
   "cell_type": "code",
   "execution_count": null,
   "id": "49a6a311",
   "metadata": {},
   "outputs": [
    {
     "data": {
      "text/plain": [
       "3.141592653589793"
      ]
     },
     "metadata": {},
     "output_type": "display_data"
    }
   ],
   "source": [
    "np.pi"
   ]
  },
  {
   "cell_type": "code",
   "execution_count": null,
   "id": "28685529",
   "metadata": {},
   "outputs": [],
   "source": [
    "pi = np.pi"
   ]
  },
  {
   "cell_type": "code",
   "execution_count": null,
   "id": "4e920d46",
   "metadata": {},
   "outputs": [
    {
     "data": {
      "text/plain": [
       "3.141592653589793"
      ]
     },
     "metadata": {},
     "output_type": "display_data"
    }
   ],
   "source": [
    "pi"
   ]
  },
  {
   "cell_type": "code",
   "execution_count": null,
   "id": "03d4be74",
   "metadata": {},
   "outputs": [
    {
     "data": {
      "text/plain": [
       "62.83185307179586"
      ]
     },
     "metadata": {},
     "output_type": "display_data"
    }
   ],
   "source": [
    "2 * pi * 10 #perimeter"
   ]
  },
  {
   "cell_type": "markdown",
   "id": "acdf9e82",
   "metadata": {},
   "source": [
    "## Area"
   ]
  },
  {
   "cell_type": "code",
   "execution_count": null,
   "id": "25cf2490",
   "metadata": {},
   "outputs": [],
   "source": [
    "masahat = pi * 10 ** 2"
   ]
  },
  {
   "cell_type": "code",
   "execution_count": null,
   "id": "374866e4",
   "metadata": {},
   "outputs": [
    {
     "name": "stdout",
     "output_type": "stream",
     "text": [
      "314.1592653589793\n"
     ]
    }
   ],
   "source": [
    "print(masahat)"
   ]
  },
  {
   "cell_type": "code",
   "execution_count": null,
   "id": "408e5e6e",
   "metadata": {},
   "outputs": [
    {
     "data": {
      "text/plain": [
       "314.1592653589793"
      ]
     },
     "metadata": {},
     "output_type": "display_data"
    }
   ],
   "source": [
    "masahat"
   ]
  },
  {
   "cell_type": "code",
   "execution_count": null,
   "id": "d4dfbadc",
   "metadata": {},
   "outputs": [],
   "source": [
    "shoa = 10"
   ]
  },
  {
   "cell_type": "code",
   "execution_count": null,
   "id": "6bce37ee",
   "metadata": {},
   "outputs": [
    {
     "data": {
      "text/plain": [
       "314.1592653589793"
      ]
     },
     "metadata": {},
     "output_type": "display_data"
    }
   ],
   "source": [
    "masahat = pi * shoa ** 2 #متغیرها به زبان فارسی هستند\n",
    "masahat"
   ]
  },
  {
   "cell_type": "markdown",
   "id": "3ac8d57e",
   "metadata": {},
   "source": [
    "# Equilateral triangle"
   ]
  },
  {
   "cell_type": "markdown",
   "id": "8fb83cb0",
   "metadata": {},
   "source": [
    "# $ \\frac{\\sqrt{3}}{4} \\times a^2 $"
   ]
  },
  {
   "cell_type": "code",
   "execution_count": null,
   "id": "3ba362f4",
   "metadata": {},
   "outputs": [],
   "source": [
    "a = 6"
   ]
  },
  {
   "cell_type": "code",
   "execution_count": null,
   "id": "67861d7b",
   "metadata": {},
   "outputs": [
    {
     "data": {
      "text/plain": [
       "2.0"
      ]
     },
     "metadata": {},
     "output_type": "display_data"
    }
   ],
   "source": [
    "math.sqrt(4)"
   ]
  },
  {
   "cell_type": "code",
   "execution_count": null,
   "id": "9c01935b",
   "metadata": {},
   "outputs": [
    {
     "data": {
      "text/plain": [
       "2.0"
      ]
     },
     "metadata": {},
     "output_type": "display_data"
    }
   ],
   "source": [
    "np.sqrt(4)"
   ]
  },
  {
   "cell_type": "code",
   "execution_count": null,
   "id": "60a88a88",
   "metadata": {},
   "outputs": [
    {
     "data": {
      "text/plain": [
       "15.588457268119894"
      ]
     },
     "metadata": {},
     "output_type": "display_data"
    }
   ],
   "source": [
    "(np.sqrt(3) / 4) * a ** 2"
   ]
  },
  {
   "cell_type": "markdown",
   "id": "ab0011cb",
   "metadata": {},
   "source": [
    "# Floor division"
   ]
  },
  {
   "cell_type": "code",
   "execution_count": null,
   "id": "c909249c",
   "metadata": {},
   "outputs": [
    {
     "data": {
      "text/plain": [
       "27.0"
      ]
     },
     "metadata": {},
     "output_type": "display_data"
    }
   ],
   "source": [
    "81 / 3"
   ]
  },
  {
   "cell_type": "code",
   "execution_count": null,
   "id": "d3ae5888",
   "metadata": {},
   "outputs": [
    {
     "data": {
      "text/plain": [
       "27"
      ]
     },
     "metadata": {},
     "output_type": "display_data"
    }
   ],
   "source": [
    "81 // 3"
   ]
  },
  {
   "cell_type": "code",
   "execution_count": null,
   "id": "f8cb8693",
   "metadata": {},
   "outputs": [
    {
     "data": {
      "text/plain": [
       "27"
      ]
     },
     "metadata": {},
     "output_type": "display_data"
    }
   ],
   "source": [
    "82 // 3"
   ]
  },
  {
   "cell_type": "code",
   "execution_count": null,
   "id": "e511cff7",
   "metadata": {},
   "outputs": [
    {
     "data": {
      "text/plain": [
       "9.0"
      ]
     },
     "metadata": {},
     "output_type": "display_data"
    }
   ],
   "source": [
    "99 / 11"
   ]
  },
  {
   "cell_type": "code",
   "execution_count": null,
   "id": "82add662",
   "metadata": {},
   "outputs": [
    {
     "data": {
      "text/plain": [
       "9"
      ]
     },
     "metadata": {},
     "output_type": "display_data"
    }
   ],
   "source": [
    "100 // 11"
   ]
  },
  {
   "cell_type": "markdown",
   "id": "25da45da",
   "metadata": {},
   "source": [
    "# Remainder"
   ]
  },
  {
   "cell_type": "code",
   "execution_count": null,
   "id": "97bc0d7e",
   "metadata": {},
   "outputs": [
    {
     "data": {
      "text/plain": [
       "2.0"
      ]
     },
     "metadata": {},
     "output_type": "display_data"
    }
   ],
   "source": [
    "6 / 3"
   ]
  },
  {
   "cell_type": "code",
   "execution_count": null,
   "id": "65d229cf",
   "metadata": {},
   "outputs": [
    {
     "data": {
      "text/plain": [
       "0"
      ]
     },
     "metadata": {},
     "output_type": "display_data"
    }
   ],
   "source": [
    "6 % 3"
   ]
  },
  {
   "cell_type": "code",
   "execution_count": null,
   "id": "4988aee1",
   "metadata": {},
   "outputs": [
    {
     "data": {
      "text/plain": [
       "1.5"
      ]
     },
     "metadata": {},
     "output_type": "display_data"
    }
   ],
   "source": [
    "6 / 4"
   ]
  },
  {
   "cell_type": "code",
   "execution_count": null,
   "id": "cf2540be",
   "metadata": {},
   "outputs": [
    {
     "data": {
      "text/plain": [
       "2"
      ]
     },
     "metadata": {},
     "output_type": "display_data"
    }
   ],
   "source": [
    "6 % 4"
   ]
  },
  {
   "cell_type": "code",
   "execution_count": null,
   "id": "fa503eeb",
   "metadata": {},
   "outputs": [
    {
     "data": {
      "text/plain": [
       "10"
      ]
     },
     "metadata": {},
     "output_type": "display_data"
    }
   ],
   "source": [
    "100 % 90"
   ]
  },
  {
   "cell_type": "markdown",
   "id": "3a6dad3a",
   "metadata": {},
   "source": [
    "## Plotting"
   ]
  },
  {
   "cell_type": "code",
   "execution_count": null,
   "id": "ab125ee6",
   "metadata": {},
   "outputs": [
    {
     "ename": "NameError",
     "evalue": "name 'plot' is not defined",
     "output_type": "error",
     "traceback": [
      "\u001b[1;31m---------------------------------------------------------------------------\u001b[0m\n",
      "\u001b[1;31mNameError\u001b[0m                                 Traceback (most recent call last)\n",
      "Cell \u001b[1;32mIn[202], line 1\u001b[0m\n",
      "\u001b[1;32m----> 1\u001b[0m \u001b[43mplot\u001b[49m()\n",
      "\n",
      "\u001b[1;31mNameError\u001b[0m: name 'plot' is not defined"
     ]
    }
   ],
   "source": [
    "plot()"
   ]
  },
  {
   "cell_type": "code",
   "execution_count": null,
   "id": "d4c7463e",
   "metadata": {},
   "outputs": [],
   "source": [
    "pip install matplotlib "
   ]
  },
  {
   "cell_type": "code",
   "execution_count": null,
   "id": "599a1f65",
   "metadata": {},
   "outputs": [],
   "source": [
    "import matplotlib.pyplot as plt"
   ]
  },
  {
   "cell_type": "code",
   "execution_count": null,
   "id": "a0c27717",
   "metadata": {},
   "outputs": [
    {
     "data": {
      "text/plain": [
       "'0b11'"
      ]
     },
     "metadata": {},
     "output_type": "display_data"
    }
   ],
   "source": [
    "bin(3)"
   ]
  },
  {
   "cell_type": "code",
   "execution_count": null,
   "id": "ef6acea6",
   "metadata": {},
   "outputs": [
    {
     "data": {
      "text/plain": [
       "str"
      ]
     },
     "metadata": {},
     "output_type": "display_data"
    }
   ],
   "source": [
    "type(bin(3))"
   ]
  },
  {
   "cell_type": "code",
   "execution_count": null,
   "id": "37efa2b2",
   "metadata": {},
   "outputs": [
    {
     "data": {
      "text/plain": [
       "'0b100'"
      ]
     },
     "metadata": {},
     "output_type": "display_data"
    }
   ],
   "source": [
    "bin(4)"
   ]
  },
  {
   "cell_type": "code",
   "execution_count": null,
   "id": "19271609",
   "metadata": {},
   "outputs": [
    {
     "data": {
      "text/plain": [
       "'0b110b100'"
      ]
     },
     "metadata": {},
     "output_type": "display_data"
    }
   ],
   "source": [
    "bin(3) + bin(4)"
   ]
  },
  {
   "cell_type": "code",
   "execution_count": null,
   "id": "cb81914f",
   "metadata": {},
   "outputs": [
    {
     "data": {
      "text/plain": [
       "'sponge bobsquare pants'"
      ]
     },
     "metadata": {},
     "output_type": "display_data"
    }
   ],
   "source": [
    "\"sponge bob\" + \"square pants\""
   ]
  },
  {
   "cell_type": "code",
   "execution_count": null,
   "id": "3fe7a2df",
   "metadata": {},
   "outputs": [
    {
     "ename": "TypeError",
     "evalue": "unsupported operand type(s) for /: 'str' and 'str'",
     "output_type": "error",
     "traceback": [
      "\u001b[1;31m---------------------------------------------------------------------------\u001b[0m\n",
      "\u001b[1;31mTypeError\u001b[0m                                 Traceback (most recent call last)\n",
      "Cell \u001b[1;32mIn[226], line 1\u001b[0m\n",
      "\u001b[1;32m----> 1\u001b[0m \u001b[38;5;124;43m\"\u001b[39;49m\u001b[38;5;124;43msponge bob\u001b[39;49m\u001b[38;5;124;43m\"\u001b[39;49m\u001b[43m \u001b[49m\u001b[38;5;241;43m/\u001b[39;49m\u001b[43m \u001b[49m\u001b[38;5;124;43m\"\u001b[39;49m\u001b[38;5;124;43msquare pants\u001b[39;49m\u001b[38;5;124;43m\"\u001b[39;49m\n",
      "\n",
      "\u001b[1;31mTypeError\u001b[0m: unsupported operand type(s) for /: 'str' and 'str'"
     ]
    }
   ],
   "source": [
    "\"sponge bob\" / \"square pants\""
   ]
  },
  {
   "cell_type": "markdown",
   "id": "92f3ed15",
   "metadata": {},
   "source": [
    "# Exercises"
   ]
  },
  {
   "cell_type": "markdown",
   "id": "4b8f5367",
   "metadata": {},
   "source": [
    "### 1. Modify the code \"sponge bob\" + \"square pants\" so that it produces the output 'sponge bob square pants'."
   ]
  },
  {
   "cell_type": "markdown",
   "id": "7131c553",
   "metadata": {},
   "source": [
    "### 2. The base of a parallelogram is 10, and its height is 6. Calculate its area. "
   ]
  },
  {
   "cell_type": "markdown",
   "id": "c53ecebf",
   "metadata": {},
   "source": [
    "### 3. The area of a rectangle is twice the area of the parallelogram from question 2. Calculate the rectangle's area."
   ]
  },
  {
   "cell_type": "markdown",
   "id": "4ddbdb74",
   "metadata": {},
   "source": [
    "### 4. If the inflation rate is 2% per year, how much would you need to invest today to have $10,000 in 10 years, assuming the investment grows continuously at a rate that matches inflation? Use the present value formula \n",
    "$PV = \\frac{FV}{e^{rt}}$"
   ]
  },
  {
   "cell_type": "markdown",
   "id": "1e40fb92",
   "metadata": {},
   "source": [
    "### 5. You invest $1,000 in a savings account that offers a continuous compound interest rate of 5% per year. Using the formula for continuous compounding, \n",
    "$A = Pe^{rt}$, where:\n",
    "\n",
    "- A is the amount of money accumulated after time \n",
    "\n",
    "- P is the principal amount (the initial amount of money)\n",
    "\n",
    "- r is the annual interest rate (decimal)\n",
    "\n",
    "- t is the time the money is invested for (in years).\n",
    "\n",
    "### Calculate the amount of money in the account after 10 years."
   ]
  },
  {
   "cell_type": "markdown",
   "id": "5cab1af8",
   "metadata": {},
   "source": [
    "### 6. If you have a bank account that offers a nominal interest rate of 5% compounded continuously, calculate the effective annual rate (EAR). Use the formula $EAR = e^r - 1$"
   ]
  },
  {
   "cell_type": "markdown",
   "id": "80d423d3",
   "metadata": {},
   "source": [
    "### 7. A certain city has a population of 50,000 and is experiencing continuous growth at a rate of 3% per year. Using the formula for continuous growth, $P(t) = P_0e^{rt}$.\n",
    "\n",
    "- P(t) is the population at time t\n",
    "\n",
    "- $P_0$ is the initial population\n",
    "\n",
    "- r is the growth rate\n",
    "\n",
    "- t is the time in years\n",
    "\n",
    "### Determine the population of the city after 15 years."
   ]
  },
  {
   "cell_type": "markdown",
   "id": "b2b69111",
   "metadata": {},
   "source": []
  },
  {
   "cell_type": "markdown",
   "id": "aa71501b",
   "metadata": {},
   "source": []
  }
 ],
 "metadata": {
  "kernelspec": {
   "display_name": "Python 3",
   "language": "python",
   "name": "python3"
  },
  "language_info": {
   "codemirror_mode": {
    "name": "ipython",
    "version": 3
   },
   "file_extension": ".py",
   "mimetype": "text/x-python",
   "name": "python",
   "nbconvert_exporter": "python",
   "pygments_lexer": "ipython3",
   "version": "3.13.1"
  }
 },
 "nbformat": 4,
 "nbformat_minor": 5
}
