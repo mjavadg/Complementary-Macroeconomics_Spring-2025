{
 "cells": [
  {
   "cell_type": "markdown",
   "id": "66998920-b6de-4662-b116-85dbe0129580",
   "metadata": {},
   "source": [
    "# Complementay Macroeconomics"
   ]
  },
  {
   "cell_type": "markdown",
   "id": "1c1e85bd-6a1b-47cf-a0a4-e38fe1fd7e4e",
   "metadata": {},
   "source": [
    "# Forth Session"
   ]
  },
  {
   "cell_type": "markdown",
   "id": "f82755d9-5813-49a9-a392-2ed911d8976d",
   "metadata": {},
   "source": [
    "## Creating a range of numbers using range()"
   ]
  },
  {
   "cell_type": "code",
   "execution_count": 262,
   "id": "443fc05a-17b7-4e69-9372-d8f0bbb2b9df",
   "metadata": {},
   "outputs": [
    {
     "data": {
      "text/plain": [
       "range(0, 10)"
      ]
     },
     "execution_count": 262,
     "metadata": {},
     "output_type": "execute_result"
    }
   ],
   "source": [
    "range(10)"
   ]
  },
  {
   "cell_type": "code",
   "execution_count": 21,
   "id": "7f062895-66fe-4f68-a916-5c6aa475ca0e",
   "metadata": {},
   "outputs": [
    {
     "data": {
      "text/plain": [
       "10"
      ]
     },
     "execution_count": 21,
     "metadata": {},
     "output_type": "execute_result"
    }
   ],
   "source": [
    "len(range(10))"
   ]
  },
  {
   "cell_type": "markdown",
   "id": "468462e6-f3f9-411d-92e4-869d02f64f6c",
   "metadata": {},
   "source": [
    "## int()"
   ]
  },
  {
   "cell_type": "code",
   "execution_count": 26,
   "id": "544d7bed-1a5c-48dd-9efd-4890bb51b749",
   "metadata": {},
   "outputs": [
    {
     "data": {
      "text/plain": [
       "3"
      ]
     },
     "execution_count": 26,
     "metadata": {},
     "output_type": "execute_result"
    }
   ],
   "source": [
    "a = 3.1\n",
    "int(a)"
   ]
  },
  {
   "cell_type": "markdown",
   "id": "0254186d-e2ab-43fe-9fcf-4eb946ece13b",
   "metadata": {},
   "source": [
    "## Ways to Decompose this range()"
   ]
  },
  {
   "cell_type": "markdown",
   "id": "ea3726b2-fe35-44f8-b0d3-d869473b5942",
   "metadata": {},
   "source": [
    "###  using tuple()"
   ]
  },
  {
   "cell_type": "code",
   "execution_count": 28,
   "id": "f9be5668-b07d-4eb7-a3ab-6e8f49572700",
   "metadata": {},
   "outputs": [
    {
     "data": {
      "text/plain": [
       "(0, 1, 2, 3, 4, 5, 6, 7, 8, 9)"
      ]
     },
     "execution_count": 28,
     "metadata": {},
     "output_type": "execute_result"
    }
   ],
   "source": [
    "tuple(range(10))"
   ]
  },
  {
   "cell_type": "code",
   "execution_count": 30,
   "id": "a70ccfe9-b1a4-4c27-9e3a-74e344cacf4b",
   "metadata": {},
   "outputs": [],
   "source": [
    "number = 14"
   ]
  },
  {
   "cell_type": "code",
   "execution_count": 32,
   "id": "bebfd9f8-d441-4b39-85eb-e8708c6be599",
   "metadata": {},
   "outputs": [
    {
     "data": {
      "text/plain": [
       "range(0, 14)"
      ]
     },
     "execution_count": 32,
     "metadata": {},
     "output_type": "execute_result"
    }
   ],
   "source": [
    "range(number)"
   ]
  },
  {
   "cell_type": "code",
   "execution_count": 34,
   "id": "8b2b6b50-33dc-4275-a681-ebc1eaed07e8",
   "metadata": {},
   "outputs": [],
   "source": [
    "the_range = tuple(range(number))"
   ]
  },
  {
   "cell_type": "code",
   "execution_count": 36,
   "id": "65cd2c5b-9720-48f6-bb3b-28117dcc7a66",
   "metadata": {
    "scrolled": true
   },
   "outputs": [
    {
     "data": {
      "text/plain": [
       "(0, 1, 2, 3, 4, 5, 6, 7, 8, 9, 10, 11, 12, 13)"
      ]
     },
     "execution_count": 36,
     "metadata": {},
     "output_type": "execute_result"
    }
   ],
   "source": [
    "the_range"
   ]
  },
  {
   "cell_type": "code",
   "execution_count": 313,
   "id": "dc5b8dd8-63e6-4a37-8da6-665bdcdcfe8f",
   "metadata": {
    "scrolled": true
   },
   "outputs": [
    {
     "data": {
      "text/plain": [
       "range(1, 10, 2)"
      ]
     },
     "execution_count": 313,
     "metadata": {},
     "output_type": "execute_result"
    }
   ],
   "source": [
    "range(1, 10, 2)"
   ]
  },
  {
   "cell_type": "code",
   "execution_count": 315,
   "id": "d28f0d40-cc32-4e63-b81f-a68e0b34e3df",
   "metadata": {},
   "outputs": [
    {
     "data": {
      "text/plain": [
       "[1, 3, 5, 7, 9]"
      ]
     },
     "execution_count": 315,
     "metadata": {},
     "output_type": "execute_result"
    }
   ],
   "source": [
    "list(range(1, 10, 2))"
   ]
  },
  {
   "cell_type": "markdown",
   "id": "bead4c0c-854a-452a-b0f0-4ceb280bbd2f",
   "metadata": {},
   "source": [
    "## About Slicing"
   ]
  },
  {
   "cell_type": "code",
   "execution_count": 38,
   "id": "e5e62b1c-6d33-4fb8-a049-f06a17635949",
   "metadata": {},
   "outputs": [
    {
     "data": {
      "text/plain": [
       "(1, 2, 3, 4, 5)"
      ]
     },
     "execution_count": 38,
     "metadata": {},
     "output_type": "execute_result"
    }
   ],
   "source": [
    "the_range[1:6]"
   ]
  },
  {
   "cell_type": "code",
   "execution_count": 41,
   "id": "ebc3b942-86b4-48cc-b13e-37277cfe37fc",
   "metadata": {},
   "outputs": [
    {
     "data": {
      "text/plain": [
       "(0, 1, 2, 3, 4, 5)"
      ]
     },
     "execution_count": 41,
     "metadata": {},
     "output_type": "execute_result"
    }
   ],
   "source": [
    "the_range[:6]"
   ]
  },
  {
   "cell_type": "code",
   "execution_count": 43,
   "id": "8406e14a-b9c5-4ca7-a17f-75f326d7b1e2",
   "metadata": {},
   "outputs": [
    {
     "data": {
      "text/plain": [
       "(6, 7, 8, 9, 10, 11, 12, 13)"
      ]
     },
     "execution_count": 43,
     "metadata": {},
     "output_type": "execute_result"
    }
   ],
   "source": [
    "the_range[6:]"
   ]
  },
  {
   "cell_type": "code",
   "execution_count": 45,
   "id": "ee3b846b-2ace-4b97-ae69-f05cb345e870",
   "metadata": {},
   "outputs": [
    {
     "data": {
      "text/plain": [
       "(0, 1, 2, 3, 4, 5, 6, 7)"
      ]
     },
     "execution_count": 45,
     "metadata": {},
     "output_type": "execute_result"
    }
   ],
   "source": [
    "the_range[:-6] "
   ]
  },
  {
   "cell_type": "code",
   "execution_count": 47,
   "id": "f4e8906e-ed94-4368-88d7-7c07ec587781",
   "metadata": {
    "scrolled": true
   },
   "outputs": [
    {
     "data": {
      "text/plain": [
       "(8, 9, 10, 11, 12, 13)"
      ]
     },
     "execution_count": 47,
     "metadata": {},
     "output_type": "execute_result"
    }
   ],
   "source": [
    "the_range[-6:]"
   ]
  },
  {
   "cell_type": "markdown",
   "id": "c78b3be7-0f10-4362-8f4f-2b5d0db00204",
   "metadata": {},
   "source": [
    "#### Since the tuple has 14 elements, index -6 corresponds to element 8 (starting from 0).Thus, the_range[:-6] includes everything from index 0 to index 7"
   ]
  },
  {
   "cell_type": "code",
   "execution_count": 55,
   "id": "05e357ad-912e-4a9b-953c-ba9731bc55a4",
   "metadata": {},
   "outputs": [],
   "source": [
    "tuple_example = (range(5), \"a\", \"b\", (\"May\", \"June\"), \"July\", 2025)"
   ]
  },
  {
   "cell_type": "code",
   "execution_count": 57,
   "id": "5861893f-6e7f-4530-9719-4e73a9bd1140",
   "metadata": {},
   "outputs": [
    {
     "data": {
      "text/plain": [
       "(range(0, 5), 'a', 'b', ('May', 'June'), 'July', 2025)"
      ]
     },
     "execution_count": 57,
     "metadata": {},
     "output_type": "execute_result"
    }
   ],
   "source": [
    "tuple_example"
   ]
  },
  {
   "cell_type": "code",
   "execution_count": 59,
   "id": "cb63ea84-b5fa-41f8-bfe2-ae7123373c07",
   "metadata": {},
   "outputs": [
    {
     "data": {
      "text/plain": [
       "('May', 'June')"
      ]
     },
     "execution_count": 59,
     "metadata": {},
     "output_type": "execute_result"
    }
   ],
   "source": [
    "tuple_example[3]"
   ]
  },
  {
   "cell_type": "code",
   "execution_count": 61,
   "id": "2567e044-15b6-4530-afb6-b5138a48b83d",
   "metadata": {},
   "outputs": [
    {
     "data": {
      "text/plain": [
       "'June'"
      ]
     },
     "execution_count": 61,
     "metadata": {},
     "output_type": "execute_result"
    }
   ],
   "source": [
    "tuple_example[3][1]"
   ]
  },
  {
   "cell_type": "code",
   "execution_count": 63,
   "id": "f9bb002e-e4cd-43f9-9121-fa6efd8513fd",
   "metadata": {},
   "outputs": [
    {
     "data": {
      "text/plain": [
       "range(0, 5)"
      ]
     },
     "execution_count": 63,
     "metadata": {},
     "output_type": "execute_result"
    }
   ],
   "source": [
    "tuple_example[0]"
   ]
  },
  {
   "cell_type": "code",
   "execution_count": 67,
   "id": "d3b96ef8-2783-4764-819b-47e7fddf20d5",
   "metadata": {},
   "outputs": [
    {
     "data": {
      "text/plain": [
       "(0, 1, 2, 3, 4)"
      ]
     },
     "execution_count": 67,
     "metadata": {},
     "output_type": "execute_result"
    }
   ],
   "source": [
    "tuple(tuple_example[0])"
   ]
  },
  {
   "cell_type": "markdown",
   "id": "148f7f2f-51d8-40b3-b300-3f1baa760c93",
   "metadata": {},
   "source": [
    "### tuples are immutable"
   ]
  },
  {
   "cell_type": "code",
   "execution_count": 101,
   "id": "b2a10392-2073-42a4-88fd-790f9f800b04",
   "metadata": {},
   "outputs": [
    {
     "ename": "TypeError",
     "evalue": "'tuple' object does not support item assignment",
     "output_type": "error",
     "traceback": [
      "\u001b[1;31m---------------------------------------------------------------------------\u001b[0m",
      "\u001b[1;31mTypeError\u001b[0m                                 Traceback (most recent call last)",
      "Cell \u001b[1;32mIn[101], line 1\u001b[0m\n\u001b[1;32m----> 1\u001b[0m \u001b[43mtuple_example\u001b[49m\u001b[43m[\u001b[49m\u001b[38;5;241;43m0\u001b[39;49m\u001b[43m]\u001b[49m \u001b[38;5;241m=\u001b[39m \u001b[38;5;28mtuple\u001b[39m(tuple_example[\u001b[38;5;241m0\u001b[39m])\n\u001b[0;32m      2\u001b[0m \u001b[38;5;28mprint\u001b[39m(tuple_example)\n",
      "\u001b[1;31mTypeError\u001b[0m: 'tuple' object does not support item assignment"
     ]
    }
   ],
   "source": [
    "tuple_example[0] = tuple(tuple_example[0])\n",
    "print(tuple_example)"
   ]
  },
  {
   "cell_type": "markdown",
   "id": "80d1f948-1f7b-49c2-be7a-bd3b519ffb48",
   "metadata": {},
   "source": [
    "# lists -> []"
   ]
  },
  {
   "cell_type": "code",
   "execution_count": 79,
   "id": "4205dbc2-4269-4e34-884e-fa14a0a27599",
   "metadata": {},
   "outputs": [
    {
     "data": {
      "text/plain": [
       "list"
      ]
     },
     "execution_count": 79,
     "metadata": {},
     "output_type": "execute_result"
    }
   ],
   "source": [
    "type([])"
   ]
  },
  {
   "cell_type": "code",
   "execution_count": 81,
   "id": "671c2905-7731-4324-b4ba-eba8e19cee4a",
   "metadata": {},
   "outputs": [
    {
     "data": {
      "text/plain": [
       "[1, 2, 3, 4, 'a', 'b']"
      ]
     },
     "execution_count": 81,
     "metadata": {},
     "output_type": "execute_result"
    }
   ],
   "source": [
    "[1, 2, 3, 4, \"a\", \"b\"]"
   ]
  },
  {
   "cell_type": "code",
   "execution_count": 83,
   "id": "2dffc247-1fa2-4082-acea-64b9012ce16d",
   "metadata": {
    "scrolled": true
   },
   "outputs": [
    {
     "data": {
      "text/plain": [
       "1"
      ]
     },
     "execution_count": 83,
     "metadata": {},
     "output_type": "execute_result"
    }
   ],
   "source": [
    "[1, 2, 3, 4, \"a\", \"b\"][0]"
   ]
  },
  {
   "cell_type": "markdown",
   "id": "2f46f2d7-8077-42a5-8746-6d87f910db89",
   "metadata": {},
   "source": [
    "#### slicing lists"
   ]
  },
  {
   "cell_type": "code",
   "execution_count": 85,
   "id": "9f6c0e6d-91ec-4540-8986-2fb4be474317",
   "metadata": {},
   "outputs": [
    {
     "data": {
      "text/plain": [
       "[3, 4]"
      ]
     },
     "execution_count": 85,
     "metadata": {},
     "output_type": "execute_result"
    }
   ],
   "source": [
    "[1, 2, 3, 4, \"a\", \"b\"][2:4]"
   ]
  },
  {
   "cell_type": "code",
   "execution_count": 89,
   "id": "edf01793-258b-480b-a518-5729631fd06b",
   "metadata": {},
   "outputs": [],
   "source": [
    "# dir([])"
   ]
  },
  {
   "cell_type": "markdown",
   "id": "8b158ccd-8219-454b-bea8-fe3b634ea572",
   "metadata": {},
   "source": [
    "### list's methods\n",
    "'append',\n",
    " 'clear',\n",
    " 'copy',\n",
    " 'count',\n",
    " 'extend',\n",
    " 'index',\n",
    " 'insert',\n",
    " 'pop',\n",
    " 'remove',\n",
    " 'reverse',\n",
    " 'sort'"
   ]
  },
  {
   "cell_type": "code",
   "execution_count": 93,
   "id": "534af3e0-856f-4056-9468-690fb42a9069",
   "metadata": {},
   "outputs": [],
   "source": [
    "list_example = list(tuple_example)"
   ]
  },
  {
   "cell_type": "code",
   "execution_count": 95,
   "id": "c26f644e-b6c6-47d4-9a51-4f9cbe10f167",
   "metadata": {},
   "outputs": [
    {
     "data": {
      "text/plain": [
       "list"
      ]
     },
     "execution_count": 95,
     "metadata": {},
     "output_type": "execute_result"
    }
   ],
   "source": [
    "type(list_example)"
   ]
  },
  {
   "cell_type": "code",
   "execution_count": 258,
   "id": "0e245a58-a11b-43a9-8efc-c13f609ef987",
   "metadata": {},
   "outputs": [
    {
     "data": {
      "text/plain": [
       "(0, 1, 2, 3, 4)"
      ]
     },
     "execution_count": 258,
     "metadata": {},
     "output_type": "execute_result"
    }
   ],
   "source": [
    "list_example[0]"
   ]
  },
  {
   "cell_type": "markdown",
   "id": "423b0807-ea41-4669-bad0-c3d5804e770d",
   "metadata": {},
   "source": [
    "### Decomposing the [0] element which is a range object and write it back to the defined list"
   ]
  },
  {
   "cell_type": "code",
   "execution_count": 99,
   "id": "6a97a96e-4294-40ad-bf86-74935baf63c7",
   "metadata": {},
   "outputs": [
    {
     "data": {
      "text/plain": [
       "(0, 1, 2, 3, 4)"
      ]
     },
     "execution_count": 99,
     "metadata": {},
     "output_type": "execute_result"
    }
   ],
   "source": [
    "tuple(list_example[0])"
   ]
  },
  {
   "cell_type": "markdown",
   "id": "9268b832-1a3a-4177-b8b1-009f3b8ec8f4",
   "metadata": {},
   "source": [
    "### We will treat the first element as a variable and then define it "
   ]
  },
  {
   "cell_type": "code",
   "execution_count": 103,
   "id": "14180399-9fc5-4010-8f46-dc5098775d0a",
   "metadata": {},
   "outputs": [
    {
     "name": "stdout",
     "output_type": "stream",
     "text": [
      "[(0, 1, 2, 3, 4), 'a', 'b', ('May', 'June'), 'July', 2025]\n"
     ]
    }
   ],
   "source": [
    "list_example[0] = tuple(list_example[0])\n",
    "print(list_example)"
   ]
  },
  {
   "cell_type": "markdown",
   "id": "3e822426-87e5-4043-bc21-637d6a87904e",
   "metadata": {},
   "source": [
    "### append() method"
   ]
  },
  {
   "cell_type": "code",
   "execution_count": 105,
   "id": "aa2bcc5a-401e-446e-a27b-1be4c675fa74",
   "metadata": {},
   "outputs": [],
   "source": [
    "list_example.append(\"2024\")"
   ]
  },
  {
   "cell_type": "code",
   "execution_count": 107,
   "id": "750217fc-d5f5-4e84-80fe-b177931e8bfb",
   "metadata": {},
   "outputs": [
    {
     "data": {
      "text/plain": [
       "[(0, 1, 2, 3, 4), 'a', 'b', ('May', 'June'), 'July', 2025, '2024']"
      ]
     },
     "execution_count": 107,
     "metadata": {},
     "output_type": "execute_result"
    }
   ],
   "source": [
    "list_example"
   ]
  },
  {
   "cell_type": "code",
   "execution_count": 109,
   "id": "55dbdbce-ab00-4e70-b174-66b9bfc939fc",
   "metadata": {},
   "outputs": [
    {
     "data": {
      "text/plain": [
       "6"
      ]
     },
     "execution_count": 109,
     "metadata": {},
     "output_type": "execute_result"
    }
   ],
   "source": [
    "list_example.index(\"2024\")"
   ]
  },
  {
   "cell_type": "code",
   "execution_count": 111,
   "id": "6f56ed2b-6d03-4e6b-9fcc-a76a87ec8b95",
   "metadata": {},
   "outputs": [
    {
     "data": {
      "text/plain": [
       "str"
      ]
     },
     "execution_count": 111,
     "metadata": {},
     "output_type": "execute_result"
    }
   ],
   "source": [
    "type(list_example[6])"
   ]
  },
  {
   "cell_type": "markdown",
   "id": "68100b86-77fa-4b0f-ba47-036e097e915b",
   "metadata": {},
   "source": [
    "### Changing the type an element from the list and write it back to the list"
   ]
  },
  {
   "cell_type": "code",
   "execution_count": 113,
   "id": "229862c8-b760-4cd5-a80f-133c4ac01779",
   "metadata": {},
   "outputs": [
    {
     "name": "stdout",
     "output_type": "stream",
     "text": [
      "[(0, 1, 2, 3, 4), 'a', 'b', ('May', 'June'), 'July', 2025, 2024]\n"
     ]
    }
   ],
   "source": [
    "list_example[6] = int(list_example[6])\n",
    "print(list_example)"
   ]
  },
  {
   "cell_type": "code",
   "execution_count": 115,
   "id": "1e98c603-53b6-4124-8ba5-6d743e1c34d7",
   "metadata": {},
   "outputs": [
    {
     "data": {
      "text/plain": [
       "int"
      ]
     },
     "execution_count": 115,
     "metadata": {},
     "output_type": "execute_result"
    }
   ],
   "source": [
    "type(list_example[6])"
   ]
  },
  {
   "cell_type": "markdown",
   "id": "d43d724a-c0ef-4c0d-887d-c41ff413b07d",
   "metadata": {},
   "source": [
    "### adding an element to a nested tuple"
   ]
  },
  {
   "cell_type": "code",
   "execution_count": 117,
   "id": "131add92-6b39-4bce-8d4c-f66b9229b2d1",
   "metadata": {},
   "outputs": [
    {
     "data": {
      "text/plain": [
       "3"
      ]
     },
     "execution_count": 117,
     "metadata": {},
     "output_type": "execute_result"
    }
   ],
   "source": [
    "list_example.index(('May', 'June'))"
   ]
  },
  {
   "cell_type": "markdown",
   "id": "b2573a49-c28b-4999-aafb-211315cea49a",
   "metadata": {},
   "source": [
    "### first we convert it to a list, because tuples are immutable"
   ]
  },
  {
   "cell_type": "code",
   "execution_count": 133,
   "id": "707a278b-b701-4666-8cc1-b15dddb4541e",
   "metadata": {},
   "outputs": [
    {
     "name": "stdout",
     "output_type": "stream",
     "text": [
      "[(0, 1, 2, 3, 4), 'a', 'b', ['May', 'June'], 'July', 2025, 2024]\n"
     ]
    }
   ],
   "source": [
    "list_example[3] = list(('May', 'June'))\n",
    "print(list_example)"
   ]
  },
  {
   "cell_type": "markdown",
   "id": "337a3cf4-e1e8-4c78-9791-5cda870d1eca",
   "metadata": {},
   "source": [
    "### then append what we want "
   ]
  },
  {
   "cell_type": "code",
   "execution_count": 135,
   "id": "395d1f3a-27a6-4288-97d9-91250b51cfab",
   "metadata": {},
   "outputs": [
    {
     "data": {
      "text/plain": [
       "[(0, 1, 2, 3, 4), 'a', 'b', ['May', 'June', '2'], 'July', 2025, 2024]"
      ]
     },
     "execution_count": 135,
     "metadata": {},
     "output_type": "execute_result"
    }
   ],
   "source": [
    "list_example[3].append(\"2\")\n",
    "list_example"
   ]
  },
  {
   "cell_type": "code",
   "execution_count": 137,
   "id": "9f0299e6-fabf-4189-9fff-f1a8f6f86d4a",
   "metadata": {},
   "outputs": [
    {
     "data": {
      "text/plain": [
       "'2'"
      ]
     },
     "execution_count": 137,
     "metadata": {},
     "output_type": "execute_result"
    }
   ],
   "source": [
    "list_example[3][2]"
   ]
  },
  {
   "cell_type": "code",
   "execution_count": 139,
   "id": "503e2e5d-ffb4-4e6c-8c74-9f45d4be37b3",
   "metadata": {
    "scrolled": true
   },
   "outputs": [
    {
     "data": {
      "text/plain": [
       "[(0, 1, 2, 3, 4), 'a', 'b', ['May', 'June', 2], 'July', 2025, 2024]"
      ]
     },
     "execution_count": 139,
     "metadata": {},
     "output_type": "execute_result"
    }
   ],
   "source": [
    "list_example[3][2] = int(list_example[3][2])\n",
    "list_example"
   ]
  },
  {
   "cell_type": "markdown",
   "id": "a3849e1f-f072-4c16-bb16-971233ab4298",
   "metadata": {},
   "source": [
    "# Sets and Dictionaries\n",
    "\n",
    "## sets: {,}\n",
    "\n",
    "## dictionaries: {:} or {}"
   ]
  },
  {
   "cell_type": "markdown",
   "id": "b52a6771-8445-4a4d-90b6-bc3213b8480e",
   "metadata": {},
   "source": [
    "## set()"
   ]
  },
  {
   "cell_type": "code",
   "execution_count": 149,
   "id": "7f41d318-6fa0-4bcb-834d-1809ce70f28d",
   "metadata": {},
   "outputs": [
    {
     "data": {
      "text/plain": [
       "tuple"
      ]
     },
     "execution_count": 149,
     "metadata": {},
     "output_type": "execute_result"
    }
   ],
   "source": [
    "type(())"
   ]
  },
  {
   "cell_type": "code",
   "execution_count": 151,
   "id": "a4d30c45-0dba-49a5-b89b-4a3188f155f8",
   "metadata": {},
   "outputs": [
    {
     "data": {
      "text/plain": [
       "list"
      ]
     },
     "execution_count": 151,
     "metadata": {},
     "output_type": "execute_result"
    }
   ],
   "source": [
    "type([])"
   ]
  },
  {
   "cell_type": "code",
   "execution_count": 147,
   "id": "d52a9b84-bb17-4ec1-b4e4-ef1f887d583b",
   "metadata": {},
   "outputs": [
    {
     "data": {
      "text/plain": [
       "{}"
      ]
     },
     "execution_count": 147,
     "metadata": {},
     "output_type": "execute_result"
    }
   ],
   "source": [
    "{}"
   ]
  },
  {
   "cell_type": "code",
   "execution_count": 153,
   "id": "a073175a-c235-4190-81a5-974d3654c53b",
   "metadata": {},
   "outputs": [
    {
     "data": {
      "text/plain": [
       "dict"
      ]
     },
     "execution_count": 153,
     "metadata": {},
     "output_type": "execute_result"
    }
   ],
   "source": [
    "type({})"
   ]
  },
  {
   "cell_type": "markdown",
   "id": "b86d3d75-cfff-499d-949d-01404ef8ad4f",
   "metadata": {},
   "source": [
    "## we will use set function to convert an iterable object like list to a set"
   ]
  },
  {
   "cell_type": "code",
   "execution_count": 155,
   "id": "70d610fc-64ff-431e-abda-e72a2ce0396a",
   "metadata": {},
   "outputs": [
    {
     "data": {
      "text/plain": [
       "[(0, 1, 2, 3, 4), 'a', 'b', {2, 'June', 'May'}, 'July', 2025, 2024]"
      ]
     },
     "execution_count": 155,
     "metadata": {},
     "output_type": "execute_result"
    }
   ],
   "source": [
    "list_example[3] = set(list_example[3])\n",
    "list_example"
   ]
  },
  {
   "cell_type": "code",
   "execution_count": 157,
   "id": "2c97d4da-d77d-4ef7-b147-fe631e01419e",
   "metadata": {
    "scrolled": true
   },
   "outputs": [
    {
     "data": {
      "text/plain": [
       "set"
      ]
     },
     "execution_count": 157,
     "metadata": {},
     "output_type": "execute_result"
    }
   ],
   "source": [
    "type(list_example[3])"
   ]
  },
  {
   "cell_type": "code",
   "execution_count": 278,
   "id": "9983594a-b0e2-486e-87fb-f3e290d8fc22",
   "metadata": {},
   "outputs": [
    {
     "ename": "TypeError",
     "evalue": "'int' object is not iterable",
     "output_type": "error",
     "traceback": [
      "\u001b[1;31m---------------------------------------------------------------------------\u001b[0m",
      "\u001b[1;31mTypeError\u001b[0m                                 Traceback (most recent call last)",
      "Cell \u001b[1;32mIn[278], line 2\u001b[0m\n\u001b[0;32m      1\u001b[0m b \u001b[38;5;241m=\u001b[39m \u001b[38;5;241m1\u001b[39m\n\u001b[1;32m----> 2\u001b[0m \u001b[38;5;28;43mset\u001b[39;49m\u001b[43m(\u001b[49m\u001b[43mb\u001b[49m\u001b[43m)\u001b[49m\n",
      "\u001b[1;31mTypeError\u001b[0m: 'int' object is not iterable"
     ]
    }
   ],
   "source": [
    "b = 1\n",
    "set(b)"
   ]
  },
  {
   "cell_type": "code",
   "execution_count": 173,
   "id": "80fb6379-219a-43ad-b4e3-c99ae7f3f741",
   "metadata": {},
   "outputs": [
    {
     "data": {
      "text/plain": [
       "{1}"
      ]
     },
     "execution_count": 173,
     "metadata": {},
     "output_type": "execute_result"
    }
   ],
   "source": [
    "a = 1,\n",
    "set(a)"
   ]
  },
  {
   "cell_type": "code",
   "execution_count": 183,
   "id": "30bf2e95-dd0e-495d-af02-ecf0c337b7de",
   "metadata": {},
   "outputs": [
    {
     "data": {
      "text/plain": [
       "set()"
      ]
     },
     "execution_count": 183,
     "metadata": {},
     "output_type": "execute_result"
    }
   ],
   "source": [
    "set(())"
   ]
  },
  {
   "cell_type": "code",
   "execution_count": 330,
   "id": "faadfd8c-b517-4ea2-a728-2efb05115a7f",
   "metadata": {},
   "outputs": [
    {
     "name": "stdout",
     "output_type": "stream",
     "text": [
      "<class 'set'>\n"
     ]
    }
   ],
   "source": [
    "set2 = {1, 2, 4}\n",
    "set3 = {7, 5, 4}\n",
    "print(type(set2))"
   ]
  },
  {
   "cell_type": "code",
   "execution_count": 332,
   "id": "e5da5d6d-8a11-4f27-8f1c-40d4c9ebe8f8",
   "metadata": {},
   "outputs": [
    {
     "data": {
      "text/plain": [
       "{4}"
      ]
     },
     "execution_count": 332,
     "metadata": {},
     "output_type": "execute_result"
    }
   ],
   "source": [
    "set2.intersection(set3) #اشتراک"
   ]
  },
  {
   "cell_type": "code",
   "execution_count": 334,
   "id": "94ce0b5b-5f41-4684-9129-65099f0c039e",
   "metadata": {},
   "outputs": [
    {
     "data": {
      "text/plain": [
       "{1, 2, 4, 5, 7}"
      ]
     },
     "execution_count": 334,
     "metadata": {},
     "output_type": "execute_result"
    }
   ],
   "source": [
    "set2.union(set3) #اتحاد"
   ]
  },
  {
   "cell_type": "markdown",
   "id": "b5354e5e-8ac2-4153-af2c-7ac946326c02",
   "metadata": {},
   "source": [
    "# Dictionary {}, {:}, dict()"
   ]
  },
  {
   "cell_type": "code",
   "execution_count": 160,
   "id": "7f5d78b1-e190-4b69-af35-0ac070f783ef",
   "metadata": {},
   "outputs": [],
   "source": [
    "time_series = {2010: \"inflation rate: 2\"}"
   ]
  },
  {
   "cell_type": "code",
   "execution_count": 162,
   "id": "51356352-eb6d-4207-8f4d-fd12b11aeefc",
   "metadata": {},
   "outputs": [
    {
     "data": {
      "text/plain": [
       "{2010: 'inflation rate: 2'}"
      ]
     },
     "execution_count": 162,
     "metadata": {},
     "output_type": "execute_result"
    }
   ],
   "source": [
    "time_series"
   ]
  },
  {
   "cell_type": "code",
   "execution_count": 185,
   "id": "f6fc6017-5c30-4b1f-ae80-5241dc17dd11",
   "metadata": {},
   "outputs": [],
   "source": [
    "time_series2 = {2010: 2.5}"
   ]
  },
  {
   "cell_type": "code",
   "execution_count": 187,
   "id": "b31516c1-41b4-4f9b-8632-0485e5da533f",
   "metadata": {},
   "outputs": [
    {
     "data": {
      "text/plain": [
       "{2010: 2.5}"
      ]
     },
     "execution_count": 187,
     "metadata": {},
     "output_type": "execute_result"
    }
   ],
   "source": [
    "time_series2"
   ]
  },
  {
   "cell_type": "code",
   "execution_count": 195,
   "id": "86623e79-c2ca-40f0-8795-6fd7a807b6db",
   "metadata": {},
   "outputs": [],
   "source": [
    "#dir(time_series)"
   ]
  },
  {
   "cell_type": "code",
   "execution_count": 280,
   "id": "cd52c477-ed01-416d-9a2a-c9cb8ae1d365",
   "metadata": {
    "scrolled": true
   },
   "outputs": [
    {
     "data": {
      "text/plain": [
       "dict_keys([2010])"
      ]
     },
     "execution_count": 280,
     "metadata": {},
     "output_type": "execute_result"
    }
   ],
   "source": [
    "time_series.keys()"
   ]
  },
  {
   "cell_type": "markdown",
   "id": "ccec701f-0426-4e2e-acb3-0786403af4d7",
   "metadata": {},
   "source": [
    "## numpy library and linspace()"
   ]
  },
  {
   "cell_type": "code",
   "execution_count": 197,
   "id": "b40b772c-16bd-4516-a578-bf0ecdf6ad16",
   "metadata": {},
   "outputs": [],
   "source": [
    "import numpy as np"
   ]
  },
  {
   "cell_type": "code",
   "execution_count": 205,
   "id": "e05ae541-d2c8-438e-b2ee-d5eabe161768",
   "metadata": {},
   "outputs": [
    {
     "data": {
      "text/plain": [
       "array([  1.        ,   3.02040816,   5.04081633,   7.06122449,\n",
       "         9.08163265,  11.10204082,  13.12244898,  15.14285714,\n",
       "        17.16326531,  19.18367347,  21.20408163,  23.2244898 ,\n",
       "        25.24489796,  27.26530612,  29.28571429,  31.30612245,\n",
       "        33.32653061,  35.34693878,  37.36734694,  39.3877551 ,\n",
       "        41.40816327,  43.42857143,  45.44897959,  47.46938776,\n",
       "        49.48979592,  51.51020408,  53.53061224,  55.55102041,\n",
       "        57.57142857,  59.59183673,  61.6122449 ,  63.63265306,\n",
       "        65.65306122,  67.67346939,  69.69387755,  71.71428571,\n",
       "        73.73469388,  75.75510204,  77.7755102 ,  79.79591837,\n",
       "        81.81632653,  83.83673469,  85.85714286,  87.87755102,\n",
       "        89.89795918,  91.91836735,  93.93877551,  95.95918367,\n",
       "        97.97959184, 100.        ])"
      ]
     },
     "execution_count": 205,
     "metadata": {},
     "output_type": "execute_result"
    }
   ],
   "source": [
    "np.linspace(1, 100)"
   ]
  },
  {
   "cell_type": "code",
   "execution_count": 207,
   "id": "f61bf0f2-133c-4be8-ae90-93677c88ef1a",
   "metadata": {},
   "outputs": [
    {
     "data": {
      "text/plain": [
       "array([  1.,  12.,  23.,  34.,  45.,  56.,  67.,  78.,  89., 100.])"
      ]
     },
     "execution_count": 207,
     "metadata": {},
     "output_type": "execute_result"
    }
   ],
   "source": [
    "np.linspace(1, 100, 10)"
   ]
  },
  {
   "cell_type": "code",
   "execution_count": 221,
   "id": "76480527-1ead-40c9-bb18-b372af100ff3",
   "metadata": {},
   "outputs": [
    {
     "data": {
      "text/plain": [
       "(array([ 1.,  2.,  3.,  4.,  5.,  6.,  7.,  8.,  9., 10.]), 1.0)"
      ]
     },
     "execution_count": 221,
     "metadata": {},
     "output_type": "execute_result"
    }
   ],
   "source": [
    "np.linspace(1, 10, 10, retstep=True)"
   ]
  },
  {
   "cell_type": "code",
   "execution_count": 223,
   "id": "a3aa21f8-5c44-4dab-9492-950bda33c7d9",
   "metadata": {},
   "outputs": [],
   "source": [
    "#help(np.linspace)"
   ]
  },
  {
   "cell_type": "code",
   "execution_count": 225,
   "id": "d8f0d902-8eed-42cd-8c8c-0eef48920614",
   "metadata": {},
   "outputs": [],
   "source": [
    "import matplotlib.pyplot as plt"
   ]
  },
  {
   "cell_type": "code",
   "execution_count": 243,
   "id": "42863a0d-4f07-4039-95aa-f771d240dea5",
   "metadata": {},
   "outputs": [
    {
     "data": {
      "image/png": "[encoded data removed]",
      "text/plain": [
       "<Figure size 640x480 with 1 Axes>"
      ]
     },
     "metadata": {},
     "output_type": "display_data"
    }
   ],
   "source": [
    "x = np.linspace(-100, 100, 100)\n",
    "y = np.linspace(2, 50, 100)\n",
    "\n",
    "plt.plot(x, y, label = \"a line\", color = \"magenta\", marker = \"8\", markersize = 3)\n",
    "plt.title(\"A magenta colored line\")\n",
    "plt.xlabel(\"X\")\n",
    "plt.ylabel(\"Y\")\n",
    "plt.legend()\n",
    "plt.show()"
   ]
  },
  {
   "cell_type": "markdown",
   "id": "319a3538-f095-4b2f-bdce-b5f9ffedabc5",
   "metadata": {},
   "source": [
    "## xticks() and yticks() and figure() functions "
   ]
  },
  {
   "cell_type": "code",
   "execution_count": 241,
   "id": "b03805b0-29c1-406d-a49c-1e45011d371c",
   "metadata": {},
   "outputs": [
    {
     "data": {
      "image/png": "[encoded data removed]",
      "text/plain": [
       "<Figure size 1500x500 with 1 Axes>"
      ]
     },
     "metadata": {},
     "output_type": "display_data"
    }
   ],
   "source": [
    "x = np.linspace(-100, 200, 15)\n",
    "y = np.linspace(2, 50, 15)\n",
    "\n",
    "plt.figure(figsize = (15, 5))\n",
    "plt.plot(x, y, label = \"a line\", color = \"magenta\", marker = \"8\", markersize = 3)\n",
    "plt.title(\"A magenta colored line\")\n",
    "plt.xlabel(\"X\")\n",
    "plt.ylabel(\"Y\")\n",
    "plt.xticks(x)\n",
    "plt.yticks(y)\n",
    "plt.legend()\n",
    "plt.show()"
   ]
  },
  {
   "cell_type": "markdown",
   "id": "a7874cc1-1bd9-4907-8ab9-4873f80bef21",
   "metadata": {},
   "source": [
    "# Exercises"
   ]
  },
  {
   "cell_type": "markdown",
   "id": "8c0bf523-eb9e-48bc-b9cc-63cd8b81a120",
   "metadata": {},
   "source": [
    "## 1. Generate a Sequence: Write code to create a sequence of numbers between 5 and 15 with exactly 4 steps."
   ]
  },
  {
   "cell_type": "markdown",
   "id": "62fafd54-8c29-4edd-a3c5-65351b92ecf8",
   "metadata": {},
   "source": [
    "## 2. Tuple vs. List Operations: Create a list and a tuple, both containing the numbers [2, 4, 6, 8].\n",
    "\n",
    "- Try multiplying the list by 3.\n",
    "\n",
    "- Try multiplying the tuple by 3.\n",
    "\n",
    "- What do you notice? "
   ]
  },
  {
   "cell_type": "markdown",
   "id": "3e46aa62-0b9d-42f7-9d69-ff5f2f31223f",
   "metadata": {},
   "source": [
    "## 3. Multiply np.linspace(1, 10, 5) by 3"
   ]
  },
  {
   "cell_type": "markdown",
   "id": "c35789f3-aec7-45bf-9a09-273fcba9ad48",
   "metadata": {},
   "source": [
    "## 4. Understanding Mutability: Write a program that attempts to modify an element inside a tuple.\n",
    "\n",
    "Explain why this fails in a comment.\n",
    "\n",
    "Find a way to modify the tuple indirectly."
   ]
  },
  {
   "cell_type": "markdown",
   "id": "ada093a6-315f-45cb-b219-f27ed3a2f9d6",
   "metadata": {},
   "source": [
    "## 5. use the following formula and create a range of number in a list $step = \\frac{end-start}{\\text{number of points} - 1}$"
   ]
  },
  {
   "cell_type": "markdown",
   "id": "c42b8c4b-aadc-4e52-b207-382a03a06728",
   "metadata": {},
   "source": [
    "## 6. my_tuple = (2, 4, 6, 8, 10)\n",
    "## Create a new tuple where each element is cubed (raised to the power of 3) without using loops or conditionals."
   ]
  },
  {
   "cell_type": "markdown",
   "id": "37f05db2-a3b7-4ca6-903a-806fd4b4b976",
   "metadata": {},
   "source": [
    "## 7. Use pct_change() from pandas library and compute the percent change in sales"
   ]
  },
  {
   "cell_type": "code",
   "execution_count": 348,
   "id": "bcb74fe4-ac3d-439b-8ba1-d5503fb22b52",
   "metadata": {},
   "outputs": [],
   "source": [
    "import pandas as pd\n",
    "\n",
    "df = pd.DataFrame({\n",
    "    \"Year\": [2019, 2020, 2021, 2022, 2023],\n",
    "    \"Sales\": [500, 550, 490, 530, 620]\n",
    "})"
   ]
  },
  {
   "cell_type": "markdown",
   "id": "a07394e4-a05e-4de6-b3e6-2ddb1bf9ae00",
   "metadata": {},
   "source": [
    "## 8. generate a sequence of custom-spaced points using np.linspace() and then apply element-wise squaring"
   ]
  },
  {
   "cell_type": "markdown",
   "id": "6c3e1295-7714-499e-a447-c117205cc7df",
   "metadata": {},
   "source": [
    "## 9. Given the price series:\n",
    "prices = pd.Series([20, 22, 19, 25, 28, 30])\n",
    "\n",
    "## Compute the percent change and plot both the original prices and percent change on the same figure."
   ]
  }
 ],
 "metadata": {
  "kernelspec": {
   "display_name": "Python 3 (ipykernel)",
   "language": "python",
   "name": "python3"
  },
  "language_info": {
   "codemirror_mode": {
    "name": "ipython",
    "version": 3
   },
   "file_extension": ".py",
   "mimetype": "text/x-python",
   "name": "python",
   "nbconvert_exporter": "python",
   "pygments_lexer": "ipython3",
   "version": "3.12.7"
  }
 },
 "nbformat": 4,
 "nbformat_minor": 5
}
